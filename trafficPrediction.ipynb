{
  "nbformat": 4,
  "nbformat_minor": 0,
  "metadata": {
    "colab": {
      "provenance": []
    },
    "kernelspec": {
      "name": "python3",
      "display_name": "Python 3"
    },
    "language_info": {
      "name": "python"
    }
  },
  "cells": [
    {
      "cell_type": "code",
      "execution_count": 16,
      "metadata": {
        "id": "ikKvU3DHehUB"
      },
      "outputs": [],
      "source": [
        "import pandas as pd\n",
        "import seaborn as sns\n",
        "import matplotlib.pyplot as plt\n",
        "from scipy.stats import zscore\n",
        "import numpy as np\n",
        "import requests\n",
        "from datetime import datetime, timedelta"
      ]
    },
    {
      "cell_type": "code",
      "source": [
        "!pip install ucimlrepo"
      ],
      "metadata": {
        "colab": {
          "base_uri": "https://localhost:8080/"
        },
        "id": "L0sjb5PufSbn",
        "outputId": "13bc6272-6349-4433-9d78-8a143d3c3764"
      },
      "execution_count": 6,
      "outputs": [
        {
          "output_type": "stream",
          "name": "stdout",
          "text": [
            "Collecting ucimlrepo\n",
            "  Downloading ucimlrepo-0.0.7-py3-none-any.whl.metadata (5.5 kB)\n",
            "Requirement already satisfied: pandas>=1.0.0 in /usr/local/lib/python3.11/dist-packages (from ucimlrepo) (2.2.2)\n",
            "Requirement already satisfied: certifi>=2020.12.5 in /usr/local/lib/python3.11/dist-packages (from ucimlrepo) (2025.4.26)\n",
            "Requirement already satisfied: numpy>=1.23.2 in /usr/local/lib/python3.11/dist-packages (from pandas>=1.0.0->ucimlrepo) (2.0.2)\n",
            "Requirement already satisfied: python-dateutil>=2.8.2 in /usr/local/lib/python3.11/dist-packages (from pandas>=1.0.0->ucimlrepo) (2.9.0.post0)\n",
            "Requirement already satisfied: pytz>=2020.1 in /usr/local/lib/python3.11/dist-packages (from pandas>=1.0.0->ucimlrepo) (2025.2)\n",
            "Requirement already satisfied: tzdata>=2022.7 in /usr/local/lib/python3.11/dist-packages (from pandas>=1.0.0->ucimlrepo) (2025.2)\n",
            "Requirement already satisfied: six>=1.5 in /usr/local/lib/python3.11/dist-packages (from python-dateutil>=2.8.2->pandas>=1.0.0->ucimlrepo) (1.17.0)\n",
            "Downloading ucimlrepo-0.0.7-py3-none-any.whl (8.0 kB)\n",
            "Installing collected packages: ucimlrepo\n",
            "Successfully installed ucimlrepo-0.0.7\n"
          ]
        }
      ]
    },
    {
      "cell_type": "code",
      "source": [
        "from ucimlrepo import fetch_ucirepo\n",
        "\n",
        "metro_interstate_traffic_volume = fetch_ucirepo(id=492)\n",
        "\n",
        "X = metro_interstate_traffic_volume.data.features\n",
        "y = metro_interstate_traffic_volume.data.targets\n",
        "\n",
        "print(metro_interstate_traffic_volume.metadata)\n",
        "\n",
        "print(metro_interstate_traffic_volume.variables)\n"
      ],
      "metadata": {
        "colab": {
          "base_uri": "https://localhost:8080/"
        },
        "id": "iPxTM0OBezQG",
        "outputId": "c211b639-7701-4b92-ded0-477856543b70"
      },
      "execution_count": 7,
      "outputs": [
        {
          "output_type": "stream",
          "name": "stdout",
          "text": [
            "{'uci_id': 492, 'name': 'Metro Interstate Traffic Volume', 'repository_url': 'https://archive.ics.uci.edu/dataset/492/metro+interstate+traffic+volume', 'data_url': 'https://archive.ics.uci.edu/static/public/492/data.csv', 'abstract': 'Hourly Minneapolis-St Paul, MN traffic volume for westbound I-94. Includes weather and holiday features from 2012-2018.', 'area': 'Other', 'tasks': ['Regression'], 'characteristics': ['Multivariate', 'Sequential', 'Time-Series'], 'num_instances': 48204, 'num_features': 8, 'feature_types': ['Integer', 'Real'], 'demographics': [], 'target_col': ['traffic_volume'], 'index_col': None, 'has_missing_values': 'no', 'missing_values_symbol': None, 'year_of_dataset_creation': 2019, 'last_updated': 'Fri Mar 15 2024', 'dataset_doi': '10.24432/C5X60B', 'creators': ['John Hogue'], 'intro_paper': None, 'additional_info': {'summary': 'Hourly Interstate 94 Westbound traffic volume for MN DoT ATR station 301, roughly midway between Minneapolis and St Paul, MN. Hourly weather features and holidays included for impacts on traffic volume.', 'purpose': None, 'funded_by': None, 'instances_represent': None, 'recommended_data_splits': None, 'sensitive_data': None, 'preprocessing_description': None, 'variable_info': 'holiday                Categorical    US National holidays plus regional holiday, Minnesota State Fair\\r\\ntemp                   Numeric        Average temp in kelvin\\r\\nrain_1h                Numeric        Amount in mm of rain that occurred in the hour\\r\\nsnow_1h                Numeric        Amount in mm of snow that occurred in the hour\\r\\nclouds_all             Numeric        Percentage of cloud cover\\r\\nweather_main           Categorical    Short textual description of the current weather\\r\\nweather_description    Categorical    Longer textual description of the current weather\\r\\ndate_time              DateTime       Hour of the data collected in local CST time\\r\\ntraffic_volume         Numeric        Hourly I-94 ATR 301 reported westbound traffic volume', 'citation': None}}\n",
            "                  name     role         type demographic  \\\n",
            "0              holiday  Feature  Categorical        None   \n",
            "1                 temp  Feature   Continuous        None   \n",
            "2              rain_1h  Feature   Continuous        None   \n",
            "3              snow_1h  Feature   Continuous        None   \n",
            "4           clouds_all  Feature      Integer        None   \n",
            "5         weather_main  Feature  Categorical        None   \n",
            "6  weather_description  Feature  Categorical        None   \n",
            "7            date_time  Feature         Date        None   \n",
            "8       traffic_volume   Target      Integer        None   \n",
            "\n",
            "                                         description   units missing_values  \n",
            "0  US National holidays plus regional holiday, Mi...    None             no  \n",
            "1                             Average temp in kelvin  Kelvin             no  \n",
            "2     Amount in mm of rain that occurred in the hour      mm             no  \n",
            "3     Amount in mm of snow that occurred in the hour      mm             no  \n",
            "4                          Percentage of cloud cover       %             no  \n",
            "5   Short textual description of the current weather    None             no  \n",
            "6  Longer textual description of the current weather    None             no  \n",
            "7       Hour of the data collected in local CST time    None             no  \n",
            "8  Hourly I-94 ATR 301 reported westbound traffic...    None             no  \n"
          ]
        }
      ]
    },
    {
      "cell_type": "markdown",
      "source": [
        "- unos podatak pod imenom \"Metro Interstate Traffic Volume\" kodom sa same stranice na linku: https://archive.ics.uci.edu/dataset/492/metro+interstate+traffic+volume"
      ],
      "metadata": {
        "id": "MnHwv0rwmt9_"
      }
    },
    {
      "cell_type": "code",
      "source": [
        "X['date_time'] = pd.to_datetime(X['date_time'])\n",
        "X['date'] = X['date_time'].dt.date\n",
        "\n",
        "latitude = 44.9778\n",
        "longitude = -93.2650\n",
        "\n",
        "start_date = '2012-10-02'\n",
        "end_date = '2018-09-30'\n",
        "\n",
        "api_url = (\n",
        "    f\"https://archive-api.open-meteo.com/v1/archive?\"\n",
        "    f\"latitude={latitude}&longitude={longitude}\"\n",
        "    f\"&start_date={start_date}&end_date={end_date}\"\n",
        "    f\"&daily=temperature_2m_max,temperature_2m_min,precipitation_sum,\"\n",
        "    f\"rain_sum,snowfall_sum,wind_speed_10m_max,wind_gusts_10m_max,\"\n",
        "    f\"wind_direction_10m_dominant,shortwave_radiation_sum\"\n",
        "    f\"&timezone=America%2FChicago\"\n",
        ")\n",
        "\n",
        "response = requests.get(api_url)\n",
        "\n",
        "if response.status_code == 200:\n",
        "    data = response.json()\n",
        "    if 'daily' in data:\n",
        "        daily_data = data['daily']\n",
        "        weather_df = pd.DataFrame(daily_data)\n",
        "        weather_df['date'] = pd.to_datetime(weather_df['time']).dt.date\n",
        "        weather_df.drop(columns=['time'], inplace=True)\n",
        "    else:\n",
        "        print(\"No data found\")\n",
        "else:\n",
        "    print(f\"Failed with stat. code: {response.status_code}\")"
      ],
      "metadata": {
        "id": "b3VFQayKwex2"
      },
      "execution_count": 28,
      "outputs": []
    },
    {
      "cell_type": "markdown",
      "source": [
        "- ovdje pozivamo open meteo historical weather API za nase podrucje Minneapolis, MN. za nas odredeni time frame od kuda su nam podaci iz prijašnjeg koraka\n",
        "- u sljedećem koraku ćemo sve te podatke kombinirati u jedan csv koji ćemo i prikazati"
      ],
      "metadata": {
        "id": "ABYvIIjx05V-"
      }
    },
    {
      "cell_type": "code",
      "source": [
        "combined_df = pd.merge(X, weather_df, on='date', how='left')\n",
        "\n",
        "combined_df.to_csv('traffic_data.csv', index=False)\n",
        "\n",
        "print(\"datasets have been combined\")"
      ],
      "metadata": {
        "colab": {
          "base_uri": "https://localhost:8080/"
        },
        "id": "kQQuIo73zkUo",
        "outputId": "99747cc2-2201-405d-9ab9-61a293297230"
      },
      "execution_count": 29,
      "outputs": [
        {
          "output_type": "stream",
          "name": "stdout",
          "text": [
            "Combined dataset saved as 'metro_traffic_with_weather.csv'.\n"
          ]
        }
      ]
    },
    {
      "cell_type": "code",
      "source": [
        "df = pd.read_csv('traffic_data.csv')\n",
        "\n",
        "print(df.head())"
      ],
      "metadata": {
        "colab": {
          "base_uri": "https://localhost:8080/"
        },
        "id": "lGnQmvRT0DOb",
        "outputId": "3e22e460-35fa-4335-b073-829ba97d48ac"
      },
      "execution_count": 30,
      "outputs": [
        {
          "output_type": "stream",
          "name": "stdout",
          "text": [
            "  holiday    temp  rain_1h  snow_1h  clouds_all weather_main  \\\n",
            "0     NaN  288.28      0.0      0.0          40       Clouds   \n",
            "1     NaN  289.36      0.0      0.0          75       Clouds   \n",
            "2     NaN  289.58      0.0      0.0          90       Clouds   \n",
            "3     NaN  290.13      0.0      0.0          90       Clouds   \n",
            "4     NaN  291.14      0.0      0.0          75       Clouds   \n",
            "\n",
            "  weather_description            date_time        date  temperature_2m_max  \\\n",
            "0    scattered clouds  2012-10-02 09:00:00  2012-10-02                21.7   \n",
            "1       broken clouds  2012-10-02 10:00:00  2012-10-02                21.7   \n",
            "2     overcast clouds  2012-10-02 11:00:00  2012-10-02                21.7   \n",
            "3     overcast clouds  2012-10-02 12:00:00  2012-10-02                21.7   \n",
            "4       broken clouds  2012-10-02 13:00:00  2012-10-02                21.7   \n",
            "\n",
            "   temperature_2m_min  precipitation_sum  rain_sum  snowfall_sum  \\\n",
            "0                 8.1                0.0       0.0           0.0   \n",
            "1                 8.1                0.0       0.0           0.0   \n",
            "2                 8.1                0.0       0.0           0.0   \n",
            "3                 8.1                0.0       0.0           0.0   \n",
            "4                 8.1                0.0       0.0           0.0   \n",
            "\n",
            "   wind_speed_10m_max  wind_gusts_10m_max  wind_direction_10m_dominant  \\\n",
            "0                12.6                24.8                          130   \n",
            "1                12.6                24.8                          130   \n",
            "2                12.6                24.8                          130   \n",
            "3                12.6                24.8                          130   \n",
            "4                12.6                24.8                          130   \n",
            "\n",
            "   shortwave_radiation_sum  \n",
            "0                    16.85  \n",
            "1                    16.85  \n",
            "2                    16.85  \n",
            "3                    16.85  \n",
            "4                    16.85  \n"
          ]
        }
      ]
    }
  ]
}